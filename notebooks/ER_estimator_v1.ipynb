{
  "nbformat": 4,
  "nbformat_minor": 0,
  "metadata": {
    "accelerator": "GPU",
    "colab": {
      "name": "ER_estimator-v1.ipynb",
      "provenance": [],
      "collapsed_sections": []
    },
    "kernelspec": {
      "display_name": "Python fastai",
      "language": "python",
      "name": "fastai"
    },
    "language_info": {
      "codemirror_mode": {
        "name": "ipython",
        "version": 3
      },
      "file_extension": ".py",
      "mimetype": "text/x-python",
      "name": "python",
      "nbconvert_exporter": "python",
      "pygments_lexer": "ipython3",
      "version": "3.7.4"
    }
  },
  "cells": [
    {
      "cell_type": "markdown",
      "metadata": {
        "colab_type": "text",
        "id": "t3x53Twm0ti7"
      },
      "source": [
        "# ER estimator V1"
      ]
    },
    {
      "cell_type": "markdown",
      "metadata": {
        "colab_type": "text",
        "id": "mDCx1DIw0tjF"
      },
      "source": [
        "We import all the necessary packages. We are going to work with the [fastai V1 library](http://www.fast.ai/2018/10/02/fastai-ai/) which sits on top of [Pytorch 1.0](https://hackernoon.com/pytorch-1-0-468332ba5163). The fastai library provides many useful functions that enable us to quickly and easily build neural networks and train our models."
      ]
    },
    {
      "cell_type": "markdown",
      "metadata": {
        "id": "7kh1bvUj1XlD",
        "colab_type": "text"
      },
      "source": [
        "<img src=\"https://confusedcoders.com/wp-content/uploads/2019/06/untitled-3.jpg\">"
      ]
    },
    {
      "cell_type": "code",
      "metadata": {
        "colab_type": "code",
        "id": "6iTppCrl0tjG",
        "colab": {}
      },
      "source": [
        "from fastai.tabular import *\n",
        "from fastai.metrics import *"
      ],
      "execution_count": 0,
      "outputs": []
    },
    {
      "cell_type": "code",
      "metadata": {
        "colab_type": "code",
        "id": "ZX0Other0tk4",
        "outputId": "5bd05b88-17f7-4f66-c1fa-adff364b8a4c",
        "colab": {
          "base_uri": "https://localhost:8080/",
          "height": 35
        }
      },
      "source": [
        "from google.colab import drive\n",
        "drive.mount('/content/drive')"
      ],
      "execution_count": 95,
      "outputs": [
        {
          "output_type": "stream",
          "text": [
            "Drive already mounted at /content/drive; to attempt to forcibly remount, call drive.mount(\"/content/drive\", force_remount=True).\n"
          ],
          "name": "stdout"
        }
      ]
    },
    {
      "cell_type": "code",
      "metadata": {
        "id": "02wMOkN2DtRq",
        "colab_type": "code",
        "colab": {}
      },
      "source": [
        "train_file = \"20190912-to-20190918.csv\"\n",
        "# train_file = \"train-20190919-to-20190921.csv\"\n",
        "# test_file = \"test-20190919-to-20190921.csv\"\n",
        "path = '/content/drive/My Drive/'"
      ],
      "execution_count": 0,
      "outputs": []
    },
    {
      "cell_type": "code",
      "metadata": {
        "colab_type": "code",
        "id": "XyU6Hri50tk7",
        "outputId": "ea86e041-d4c3-473f-db9c-a462c911a3e0",
        "colab": {
          "base_uri": "https://localhost:8080/",
          "height": 163
        }
      },
      "source": [
        "train = pd.read_csv(path+train_file)\n",
        "train = train.drop(columns=[\"sid\",\"time\",\"r_site_iab_cats\",\"g_event_id\"])\n",
        "train[0:5], len(train)"
      ],
      "execution_count": 97,
      "outputs": [
        {
          "output_type": "execute_result",
          "data": {
            "text/plain": [
              "(   r_dow  r_hod  a_er_cat  ...  s_gerry_type  s_caesar_id  response\n",
              " 0      0     19         0  ...           0.0          NaN         0\n",
              " 1      0     19         0  ...           NaN          NaN         0\n",
              " 2      0     19         3  ...           NaN          NaN         0\n",
              " 3      0     19         0  ...           NaN          NaN         0\n",
              " 4      0     19         0  ...           NaN          NaN         0\n",
              " \n",
              " [5 rows x 22 columns], 2687317)"
            ]
          },
          "metadata": {
            "tags": []
          },
          "execution_count": 97
        }
      ]
    },
    {
      "cell_type": "code",
      "metadata": {
        "id": "icjMTVa4htgf",
        "colab_type": "code",
        "colab": {
          "base_uri": "https://localhost:8080/",
          "height": 35
        },
        "outputId": "03c503fc-8c71-4817-d551-8fabbaeb5b16"
      },
      "source": [
        "# extraction the test set from main dataset\n",
        "valid_idx = range(int(len(train)*0.9), len(train))\n",
        "valid_idx"
      ],
      "execution_count": 98,
      "outputs": [
        {
          "output_type": "execute_result",
          "data": {
            "text/plain": [
              "range(2418585, 2687317)"
            ]
          },
          "metadata": {
            "tags": []
          },
          "execution_count": 98
        }
      ]
    },
    {
      "cell_type": "code",
      "metadata": {
        "id": "8v_Y8FjC8y5Q",
        "colab_type": "code",
        "outputId": "0cf462dd-4460-42ac-8498-478103ffe6f8",
        "colab": {
          "base_uri": "https://localhost:8080/",
          "height": 163
        }
      },
      "source": [
        "test_df = train.iloc[valid_idx].copy()\n",
        "# test_df = pd.read_csv(path+test_file)\n",
        "# test_df = test_df.drop(columns=[\"sid\",\"time\",\"r_site_iab_cats\",\"g_event_id\"])\n",
        "test_df.head(), len(test_df)"
      ],
      "execution_count": 99,
      "outputs": [
        {
          "output_type": "execute_result",
          "data": {
            "text/plain": [
              "(         r_dow  r_hod  a_er_cat  ...  s_gerry_type  s_caesar_id  response\n",
              " 2418585      0      7         0  ...           0.0          NaN         0\n",
              " 2418586      0      7         0  ...           NaN          NaN         0\n",
              " 2418587      0      7         0  ...           NaN          NaN         0\n",
              " 2418588      0      7         0  ...           NaN          NaN         0\n",
              " 2418589      0      7         0  ...           NaN          NaN         0\n",
              " \n",
              " [5 rows x 22 columns], 268732)"
            ]
          },
          "metadata": {
            "tags": []
          },
          "execution_count": 99
        }
      ]
    },
    {
      "cell_type": "code",
      "metadata": {
        "colab_type": "code",
        "id": "Yfv9Rjn_0tlZ",
        "colab": {
          "base_uri": "https://localhost:8080/",
          "height": 155
        },
        "outputId": "e2df9755-7178-46bd-a85f-4a2db68d7688"
      },
      "source": [
        "# We can define a bunch of Transforms that will be applied to our variables. Here we transform all categorical variables into categories. We also replace missing values for continuous variables by the median column value and normalize those."
      ],
      "execution_count": 100,
      "outputs": [
        {
          "output_type": "error",
          "ename": "SyntaxError",
          "evalue": "ignored",
          "traceback": [
            "\u001b[0;36m  File \u001b[0;32m\"<ipython-input-100-7fb666018b55>\"\u001b[0;36m, line \u001b[0;32m1\u001b[0m\n\u001b[0;31m    We can define a bunch of Transforms that will be applied to our variables. Here we transform all categorical variables into categories. We also replace missing values for continuous variables by the median column value and normalize those.\u001b[0m\n\u001b[0m         ^\u001b[0m\n\u001b[0;31mSyntaxError\u001b[0m\u001b[0;31m:\u001b[0m invalid syntax\n"
          ]
        }
      ]
    },
    {
      "cell_type": "code",
      "metadata": {
        "id": "T6M0RAls_byR",
        "colab_type": "code",
        "colab": {}
      },
      "source": [
        "procs = [FillMissing, Categorify, Normalize]"
      ],
      "execution_count": 0,
      "outputs": []
    },
    {
      "cell_type": "markdown",
      "metadata": {
        "id": "fT3TAwQA_byi",
        "colab_type": "text"
      },
      "source": [
        "let's split our variables into categorical and continuous variables (we can ignore the label variable at this stage). fastai will assume all variables that aren't labels or categorical are continuous, unless we explicitly pass a list to the cont_names parameter when constructing our DataBunch."
      ]
    },
    {
      "cell_type": "code",
      "metadata": {
        "id": "S8mW8RzW_byl",
        "colab_type": "code",
        "outputId": "58d60b4c-7db4-4a4f-e21a-fbafad3d06e7",
        "colab": {
          "base_uri": "https://localhost:8080/",
          "height": 399
        }
      },
      "source": [
        "label = 'response'\n",
        "cat_names = [cat for cat in train.columns][:-1]\n",
        "cat_names"
      ],
      "execution_count": 102,
      "outputs": [
        {
          "output_type": "execute_result",
          "data": {
            "text/plain": [
              "['r_dow',\n",
              " 'r_hod',\n",
              " 'a_er_cat',\n",
              " 'a_app_id',\n",
              " 'a_campaign_type_id',\n",
              " 'a_camp_id',\n",
              " 'a_group_id',\n",
              " 'r_source_id',\n",
              " 'c_id',\n",
              " 'r_site_id',\n",
              " 'r_country_id',\n",
              " 'r_region_code',\n",
              " 'r_platform',\n",
              " 'r_network_type',\n",
              " 'r_traffic_type',\n",
              " 'c_type',\n",
              " 'c_cta',\n",
              " 'c_text',\n",
              " 'c_size',\n",
              " 's_gerry_type',\n",
              " 's_caesar_id']"
            ]
          },
          "metadata": {
            "tags": []
          },
          "execution_count": 102
        }
      ]
    },
    {
      "cell_type": "markdown",
      "metadata": {
        "id": "4oE4w9C-_byq",
        "colab_type": "text"
      },
      "source": [
        "ready to pass this information to TabularDataBunch.from_df to create the DataBunch that we'll use for training."
      ]
    },
    {
      "cell_type": "code",
      "metadata": {
        "id": "eaLnEKw-_bys",
        "colab_type": "code",
        "outputId": "7b8866aa-df33-4606-95c3-0c67394945df",
        "colab": {
          "base_uri": "https://localhost:8080/",
          "height": 110
        }
      },
      "source": [
        "test = TabularList.from_df(test_df, cat_names=cat_names, cont_names=[], procs=procs)\n",
        "\n",
        "\n",
        "data = (TabularList.from_df(train, path='.', cat_names=cat_names, procs=procs)\n",
        "                        .split_by_idx(list(valid_idx))  # this is for splitting into train and test set.\n",
        "                        .label_from_df(cols = label)\n",
        "                        .add_test(test, label=0)\n",
        "                        .databunch())\n",
        "print(data.train_ds.cat_names)\n",
        "print(data.train_ds.cont_names)\n",
        "print(data.test_ds.cat_names)\n",
        "print(data.test_ds.cont_names)"
      ],
      "execution_count": 104,
      "outputs": [
        {
          "output_type": "stream",
          "text": [
            "['r_dow', 'r_hod', 'a_er_cat', 'a_app_id', 'a_campaign_type_id', 'a_camp_id', 'a_group_id', 'r_source_id', 'c_id', 'r_site_id', 'r_country_id', 'r_region_code', 'r_platform', 'r_network_type', 'r_traffic_type', 'c_type', 'c_cta', 'c_text', 'c_size', 's_gerry_type', 's_caesar_id']\n",
            "[]\n",
            "['r_dow', 'r_hod', 'a_er_cat', 'a_app_id', 'a_campaign_type_id', 'a_camp_id', 'a_group_id', 'r_source_id', 'c_id', 'r_site_id', 'r_country_id', 'r_region_code', 'r_platform', 'r_network_type', 'r_traffic_type', 'c_type', 'c_cta', 'c_text', 'c_size', 's_gerry_type', 's_caesar_id']\n",
            "[]\n"
          ],
          "name": "stdout"
        }
      ]
    },
    {
      "cell_type": "code",
      "metadata": {
        "scrolled": true,
        "id": "F7cT8BaP_byx",
        "colab_type": "code",
        "outputId": "9b9faa27-8351-4c94-d2d6-fe9f4271029a",
        "colab": {
          "base_uri": "https://localhost:8080/",
          "height": 145
        }
      },
      "source": [
        "(cat_x,cont_x),y = next(iter(data.train_dl))\n",
        "for o in (cat_x, cont_x, y): print(to_np(o[:5]))"
      ],
      "execution_count": 105,
      "outputs": [
        {
          "output_type": "stream",
          "text": [
            "[[  1   4   1  11 ...  66   5   0   0]\n",
            " [  7  10   1  47 ... 102   9   0   0]\n",
            " [  7   9   1  74 ...   0   9   2   0]\n",
            " [  3  12   1  76 ...   0   9   0   0]\n",
            " [  2   4   1  52 ...  42   1   0   0]]\n",
            "[0 0 0 0 0]\n",
            "[0 0 0 0 0]\n"
          ],
          "name": "stdout"
        }
      ]
    },
    {
      "cell_type": "markdown",
      "metadata": {
        "id": "X2UZNqq-3VPj",
        "colab_type": "text"
      },
      "source": [
        "Why I used Beta(1):\n",
        "http://www.marcelonet.com/snippets/machine-learning/evaluation-metrix/f-beta-score"
      ]
    },
    {
      "cell_type": "code",
      "metadata": {
        "id": "E1GOj6gNSU_F",
        "colab_type": "code",
        "outputId": "08f209fd-c328-43b4-90ef-149d5baff72f",
        "colab": {
          "base_uri": "https://localhost:8080/",
          "height": 399
        }
      },
      "source": [
        "emb_szs = { cat:25 for cat in cat_names}\n",
        "emb_szs"
      ],
      "execution_count": 106,
      "outputs": [
        {
          "output_type": "execute_result",
          "data": {
            "text/plain": [
              "{'a_app_id': 25,\n",
              " 'a_camp_id': 25,\n",
              " 'a_campaign_type_id': 25,\n",
              " 'a_er_cat': 25,\n",
              " 'a_group_id': 25,\n",
              " 'c_cta': 25,\n",
              " 'c_id': 25,\n",
              " 'c_size': 25,\n",
              " 'c_text': 25,\n",
              " 'c_type': 25,\n",
              " 'r_country_id': 25,\n",
              " 'r_dow': 25,\n",
              " 'r_hod': 25,\n",
              " 'r_network_type': 25,\n",
              " 'r_platform': 25,\n",
              " 'r_region_code': 25,\n",
              " 'r_site_id': 25,\n",
              " 'r_source_id': 25,\n",
              " 'r_traffic_type': 25,\n",
              " 's_caesar_id': 25,\n",
              " 's_gerry_type': 25}"
            ]
          },
          "metadata": {
            "tags": []
          },
          "execution_count": 106
        }
      ]
    },
    {
      "cell_type": "code",
      "metadata": {
        "id": "26ISjWy-_by2",
        "colab_type": "code",
        "colab": {}
      },
      "source": [
        "f1_score =FBeta(average='macro',beta = 1) #partial(fbeta, thresh=0.2, beta = 1)\n",
        "# acc_02 = partial(accuracy_thresh, thresh=0.2)\n",
        "learn = tabular_learner(data, layers=[1000, 200, 15], emb_szs=emb_szs, metrics=[accuracy,f1_score],emb_drop=0.1, callback_fns=ShowGraph)"
      ],
      "execution_count": 0,
      "outputs": []
    },
    {
      "cell_type": "code",
      "metadata": {
        "id": "bY-Tux2_yTRD",
        "colab_type": "code",
        "colab": {}
      },
      "source": [
        "#partial(fbeta, thresh=0.2, beta = 1)\n",
        "#f_score = partial(fbeta, thresh=0.2)\n"
      ],
      "execution_count": 0,
      "outputs": []
    },
    {
      "cell_type": "code",
      "metadata": {
        "id": "i7CVJ87HIAWf",
        "colab_type": "code",
        "outputId": "d0141777-e7f0-4aea-da90-b7f3e71c1530",
        "colab": {
          "base_uri": "https://localhost:8080/",
          "height": 301
        }
      },
      "source": [
        "learn.lr_find()\n",
        "learn.recorder.plot()"
      ],
      "execution_count": 108,
      "outputs": [
        {
          "output_type": "display_data",
          "data": {
            "text/html": [
              ""
            ],
            "text/plain": [
              "<IPython.core.display.HTML object>"
            ]
          },
          "metadata": {
            "tags": []
          }
        },
        {
          "output_type": "stream",
          "text": [
            "LR Finder is complete, type {learner_name}.recorder.plot() to see the graph.\n"
          ],
          "name": "stdout"
        },
        {
          "output_type": "display_data",
          "data": {
            "image/png": "[encoded data removed]",
            "text/plain": [
              "<Figure size 432x288 with 1 Axes>"
            ]
          },
          "metadata": {
            "tags": []
          }
        }
      ]
    },
    {
      "cell_type": "code",
      "metadata": {
        "id": "2TQxvzCLD1QD",
        "colab_type": "code",
        "outputId": "f1a8f23a-c5ed-4b0a-cbc7-abb99e5c35a9",
        "colab": {
          "base_uri": "https://localhost:8080/",
          "height": 420
        }
      },
      "source": [
        "learn.fit_one_cycle(4, max_lr=slice(1e-01))"
      ],
      "execution_count": 109,
      "outputs": [
        {
          "output_type": "display_data",
          "data": {
            "text/html": [
              "<table border=\"1\" class=\"dataframe\">\n",
              "  <thead>\n",
              "    <tr style=\"text-align: left;\">\n",
              "      <th>epoch</th>\n",
              "      <th>train_loss</th>\n",
              "      <th>valid_loss</th>\n",
              "      <th>accuracy</th>\n",
              "      <th>f_beta</th>\n",
              "      <th>time</th>\n",
              "    </tr>\n",
              "  </thead>\n",
              "  <tbody>\n",
              "    <tr>\n",
              "      <td>0</td>\n",
              "      <td>0.085831</td>\n",
              "      <td>167.607498</td>\n",
              "      <td>0.980315</td>\n",
              "      <td>0.573708</td>\n",
              "      <td>11:35</td>\n",
              "    </tr>\n",
              "    <tr>\n",
              "      <td>1</td>\n",
              "      <td>0.075542</td>\n",
              "      <td>32.861870</td>\n",
              "      <td>0.973602</td>\n",
              "      <td>0.609660</td>\n",
              "      <td>11:33</td>\n",
              "    </tr>\n",
              "    <tr>\n",
              "      <td>2</td>\n",
              "      <td>0.074928</td>\n",
              "      <td>0.073849</td>\n",
              "      <td>0.981361</td>\n",
              "      <td>0.495296</td>\n",
              "      <td>11:27</td>\n",
              "    </tr>\n",
              "    <tr>\n",
              "      <td>3</td>\n",
              "      <td>0.083911</td>\n",
              "      <td>0.071052</td>\n",
              "      <td>0.981234</td>\n",
              "      <td>0.519417</td>\n",
              "      <td>11:18</td>\n",
              "    </tr>\n",
              "  </tbody>\n",
              "</table>"
            ],
            "text/plain": [
              "<IPython.core.display.HTML object>"
            ]
          },
          "metadata": {
            "tags": []
          }
        },
        {
          "output_type": "display_data",
          "data": {
            "image/png": "[encoded data removed]",
            "text/plain": [
              "<Figure size 432x288 with 1 Axes>"
            ]
          },
          "metadata": {
            "tags": []
          }
        }
      ]
    },
    {
      "cell_type": "code",
      "metadata": {
        "id": "N2TJukb90BAH",
        "colab_type": "code",
        "outputId": "a2577b6f-d360-47ba-b595-1788fded53e7",
        "colab": {
          "base_uri": "https://localhost:8080/",
          "height": 54
        }
      },
      "source": [
        "print(learn.predict(test_df.loc[2418585], thresh=0.1) )\n",
        "print(learn.predict(test_df.iloc[0], thresh=0.1) )\n",
        "# test_df.loc[2418585], test_df.iloc[0]\n",
        "thresh = 0.08"
      ],
      "execution_count": 146,
      "outputs": [
        {
          "output_type": "stream",
          "text": [
            "(Category 0, tensor(0), tensor([0.9540, 0.0460]))\n",
            "(Category 0, tensor(0), tensor([0.9540, 0.0460]))\n"
          ],
          "name": "stdout"
        }
      ]
    },
    {
      "cell_type": "code",
      "metadata": {
        "id": "dNnLls2gl66J",
        "colab_type": "code",
        "colab": {}
      },
      "source": [
        "#test_df"
      ],
      "execution_count": 0,
      "outputs": []
    },
    {
      "cell_type": "code",
      "metadata": {
        "id": "ybwd0Q-PQJ5C",
        "colab_type": "code",
        "colab": {}
      },
      "source": [
        "# test_df[test_df['response'] == 1]"
      ],
      "execution_count": 0,
      "outputs": []
    },
    {
      "cell_type": "code",
      "metadata": {
        "id": "xOkrRWti4F43",
        "colab_type": "code",
        "outputId": "f1d31a65-7f65-4cf1-9d81-e1f129c19b9e",
        "colab": {
          "base_uri": "https://localhost:8080/",
          "height": 54
        }
      },
      "source": [
        "test_pos = test_df[test_df['response'] == 1]\n",
        "pos_cant = len(test_pos)\n",
        "print(\"positives:\",pos_cant)\n",
        "\n",
        "res = []\n",
        "for i in range(0,4000):\n",
        "    pred = learn.predict(test_pos.iloc[i])\n",
        "    cat = pred[1].numpy()\n",
        "    val = pred[2].numpy()[1]\n",
        "    res.append((cat,val))\n",
        "\n",
        "arr = pd.DataFrame(res)\n",
        "pos = arr[arr[1] >= thresh]\n",
        "len(arr), len(pos)\n",
        "print(\"Sensitivity: \",len(pos)/len(arr))"
      ],
      "execution_count": 149,
      "outputs": [
        {
          "output_type": "stream",
          "text": [
            "positives: 5009\n",
            "Sensitivity:  0.40825\n"
          ],
          "name": "stdout"
        }
      ]
    },
    {
      "cell_type": "code",
      "metadata": {
        "id": "97zX7Fdvz9Av",
        "colab_type": "code",
        "colab": {
          "base_uri": "https://localhost:8080/",
          "height": 72
        },
        "outputId": "e5acdeb4-5eec-45ee-eced-86cafd8de952"
      },
      "source": [
        "negative = test_df[test_df['response'] == 0]\n",
        "neg_cant = len(negative)\n",
        "print(\"negative:\",neg_cant)\n",
        "\n",
        "res_neg = []\n",
        "for i in range(0,int(10000)):\n",
        "    pred = learn.predict(negative.iloc[i])\n",
        "    cat = pred[1].numpy()\n",
        "    val = pred[2].numpy()[1]\n",
        "    res_neg.append((cat,val))\n",
        "\n",
        "arr_neg = pd.DataFrame(res_neg)\n",
        "\n",
        "neg = arr_neg[arr_neg[1] < thresh]\n",
        "print(len(arr_neg), len(neg))\n",
        "print(\"Specificity: \",len(neg)/len(arr_neg))"
      ],
      "execution_count": 150,
      "outputs": [
        {
          "output_type": "stream",
          "text": [
            "negative: 263723\n",
            "10000 9601\n",
            "Specificity:  0.9601\n"
          ],
          "name": "stdout"
        }
      ]
    },
    {
      "cell_type": "code",
      "metadata": {
        "id": "JQu2gRlRAcfG",
        "colab_type": "code",
        "outputId": "5ef87d38-2533-4928-f749-0cc1f865f853",
        "colab": {
          "base_uri": "https://localhost:8080/",
          "height": 35
        }
      },
      "source": [
        "specificity = len(neg)/len(arr_neg)\n",
        "sensitivity = len(pos)/len(arr)\n",
        "specificity,sensitivity\n",
        "# train\n",
        "f1 = 2*sensitivity*specificity/ (specificity+sensitivity)\n",
        "print(\"F1 Score: \",f1)"
      ],
      "execution_count": 151,
      "outputs": [
        {
          "output_type": "stream",
          "text": [
            "F1 Score:  0.5728955676544744\n"
          ],
          "name": "stdout"
        }
      ]
    },
    {
      "cell_type": "code",
      "metadata": {
        "id": "_IaDzD9MhcRw",
        "colab_type": "code",
        "colab": {}
      },
      "source": [
        ""
      ],
      "execution_count": 0,
      "outputs": []
    }
  ]
}