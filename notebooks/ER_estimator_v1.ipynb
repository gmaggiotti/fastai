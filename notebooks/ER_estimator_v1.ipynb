{
  "nbformat": 4,
  "nbformat_minor": 0,
  "metadata": {
    "accelerator": "GPU",
    "colab": {
      "name": "ER_estimator-v1.ipynb",
      "provenance": [],
      "collapsed_sections": []
    },
    "kernelspec": {
      "display_name": "Python fastai",
      "language": "python",
      "name": "fastai"
    },
    "language_info": {
      "codemirror_mode": {
        "name": "ipython",
        "version": 3
      },
      "file_extension": ".py",
      "mimetype": "text/x-python",
      "name": "python",
      "nbconvert_exporter": "python",
      "pygments_lexer": "ipython3",
      "version": "3.7.4"
    }
  },
  "cells": [
    {
      "cell_type": "markdown",
      "metadata": {
        "colab_type": "text",
        "id": "t3x53Twm0ti7"
      },
      "source": [
        "# ER estimator V1"
      ]
    },
    {
      "cell_type": "markdown",
      "metadata": {
        "colab_type": "text",
        "id": "mDCx1DIw0tjF"
      },
      "source": [
        "We import all the necessary packages. We are going to work with the [fastai V1 library](http://www.fast.ai/2018/10/02/fastai-ai/) which sits on top of [Pytorch 1.0](https://hackernoon.com/pytorch-1-0-468332ba5163). The fastai library provides many useful functions that enable us to quickly and easily build neural networks and train our models."
      ]
    },
    {
      "cell_type": "markdown",
      "metadata": {
        "id": "7kh1bvUj1XlD",
        "colab_type": "text"
      },
      "source": [
        "<img src=\"https://confusedcoders.com/wp-content/uploads/2019/06/untitled-3.jpg\">"
      ]
    },
    {
      "cell_type": "code",
      "metadata": {
        "colab_type": "code",
        "id": "6iTppCrl0tjG",
        "colab": {}
      },
      "source": [
        "from fastai.tabular import *\n",
        "from fastai.metrics import *"
      ],
      "execution_count": 0,
      "outputs": []
    },
    {
      "cell_type": "code",
      "metadata": {
        "colab_type": "code",
        "id": "ZX0Other0tk4",
        "outputId": "27c2982f-8ad9-4c86-dc66-8a73e18e4e56",
        "colab": {
          "base_uri": "https://localhost:8080/",
          "height": 35
        }
      },
      "source": [
        "from google.colab import drive\n",
        "drive.mount('/content/drive')"
      ],
      "execution_count": 0,
      "outputs": [
        {
          "output_type": "stream",
          "text": [
            "Drive already mounted at /content/drive; to attempt to forcibly remount, call drive.mount(\"/content/drive\", force_remount=True).\n"
          ],
          "name": "stdout"
        }
      ]
    },
    {
      "cell_type": "code",
      "metadata": {
        "id": "02wMOkN2DtRq",
        "colab_type": "code",
        "colab": {}
      },
      "source": [
        "train_file = \"20190912-to-20190918.csv\"\n",
        "# train_file = \"train-20190919-to-20190921.csv\"\n",
        "# test_file = \"test-20190919-to-20190921.csv\"\n",
        "path = '/content/drive/My Drive/'"
      ],
      "execution_count": 0,
      "outputs": []
    },
    {
      "cell_type": "code",
      "metadata": {
        "colab_type": "code",
        "id": "XyU6Hri50tk7",
        "outputId": "720646c0-ded4-4d37-fc31-dbea1780efb7",
        "colab": {
          "base_uri": "https://localhost:8080/",
          "height": 163
        }
      },
      "source": [
        "train = pd.read_csv(path+train_file)\n",
        "train = train.drop(columns=[\"sid\",\"time\",\"r_site_iab_cats\",\"g_event_id\"])\n",
        "train[0:5], len(train)"
      ],
      "execution_count": 0,
      "outputs": [
        {
          "output_type": "execute_result",
          "data": {
            "text/plain": [
              "(   r_dow  r_hod  a_er_cat  ...  s_gerry_type  s_caesar_id  response\n",
              " 0      0     19         0  ...           0.0          NaN         0\n",
              " 1      0     19         0  ...           NaN          NaN         0\n",
              " 2      0     19         3  ...           NaN          NaN         0\n",
              " 3      0     19         0  ...           NaN          NaN         0\n",
              " 4      0     19         0  ...           NaN          NaN         0\n",
              " \n",
              " [5 rows x 22 columns], 2687317)"
            ]
          },
          "metadata": {
            "tags": []
          },
          "execution_count": 9
        }
      ]
    },
    {
      "cell_type": "code",
      "metadata": {
        "id": "icjMTVa4htgf",
        "colab_type": "code",
        "outputId": "cd105861-f599-4758-ef54-c2c59ca0aef2",
        "colab": {
          "base_uri": "https://localhost:8080/",
          "height": 35
        }
      },
      "source": [
        "# extraction the test set from main dataset\n",
        "valid_idx = range(int(len(train)*0.9), len(train))\n",
        "valid_idx"
      ],
      "execution_count": 0,
      "outputs": [
        {
          "output_type": "execute_result",
          "data": {
            "text/plain": [
              "range(2418585, 2687317)"
            ]
          },
          "metadata": {
            "tags": []
          },
          "execution_count": 10
        }
      ]
    },
    {
      "cell_type": "code",
      "metadata": {
        "id": "8v_Y8FjC8y5Q",
        "colab_type": "code",
        "outputId": "97c7b874-2ae1-48ab-adb2-30d5ffb05ea4",
        "colab": {
          "base_uri": "https://localhost:8080/",
          "height": 163
        }
      },
      "source": [
        "test_df = train.iloc[valid_idx].copy()\n",
        "# test_df = pd.read_csv(path+test_file)\n",
        "# test_df = test_df.drop(columns=[\"sid\",\"time\",\"r_site_iab_cats\",\"g_event_id\"])\n",
        "test_df.head(), len(test_df)"
      ],
      "execution_count": 0,
      "outputs": [
        {
          "output_type": "execute_result",
          "data": {
            "text/plain": [
              "(         r_dow  r_hod  a_er_cat  ...  s_gerry_type  s_caesar_id  response\n",
              " 2418585      0      7         0  ...           0.0          NaN         0\n",
              " 2418586      0      7         0  ...           NaN          NaN         0\n",
              " 2418587      0      7         0  ...           NaN          NaN         0\n",
              " 2418588      0      7         0  ...           NaN          NaN         0\n",
              " 2418589      0      7         0  ...           NaN          NaN         0\n",
              " \n",
              " [5 rows x 22 columns], 268732)"
            ]
          },
          "metadata": {
            "tags": []
          },
          "execution_count": 11
        }
      ]
    },
    {
      "cell_type": "code",
      "metadata": {
        "colab_type": "code",
        "id": "Yfv9Rjn_0tlZ",
        "colab": {}
      },
      "source": [
        "# We can define a bunch of Transforms that will be applied to our variables. Here we transform all categorical variables into categories. We also replace missing values for continuous variables by the median column value and normalize those."
      ],
      "execution_count": 0,
      "outputs": []
    },
    {
      "cell_type": "code",
      "metadata": {
        "id": "T6M0RAls_byR",
        "colab_type": "code",
        "colab": {}
      },
      "source": [
        "procs = [FillMissing, Categorify, Normalize]"
      ],
      "execution_count": 0,
      "outputs": []
    },
    {
      "cell_type": "markdown",
      "metadata": {
        "id": "fT3TAwQA_byi",
        "colab_type": "text"
      },
      "source": [
        "let's split our variables into categorical and continuous variables (we can ignore the label variable at this stage). fastai will assume all variables that aren't labels or categorical are continuous, unless we explicitly pass a list to the cont_names parameter when constructing our DataBunch."
      ]
    },
    {
      "cell_type": "code",
      "metadata": {
        "id": "S8mW8RzW_byl",
        "colab_type": "code",
        "outputId": "086d1bf6-e45a-4788-8b0e-d50b655141a3",
        "colab": {
          "base_uri": "https://localhost:8080/",
          "height": 399
        }
      },
      "source": [
        "label = 'response'\n",
        "cat_names = [cat for cat in train.columns][:-1]\n",
        "cat_names"
      ],
      "execution_count": 0,
      "outputs": [
        {
          "output_type": "execute_result",
          "data": {
            "text/plain": [
              "['r_dow',\n",
              " 'r_hod',\n",
              " 'a_er_cat',\n",
              " 'a_app_id',\n",
              " 'a_campaign_type_id',\n",
              " 'a_camp_id',\n",
              " 'a_group_id',\n",
              " 'r_source_id',\n",
              " 'c_id',\n",
              " 'r_site_id',\n",
              " 'r_country_id',\n",
              " 'r_region_code',\n",
              " 'r_platform',\n",
              " 'r_network_type',\n",
              " 'r_traffic_type',\n",
              " 'c_type',\n",
              " 'c_cta',\n",
              " 'c_text',\n",
              " 'c_size',\n",
              " 's_gerry_type',\n",
              " 's_caesar_id']"
            ]
          },
          "metadata": {
            "tags": []
          },
          "execution_count": 14
        }
      ]
    },
    {
      "cell_type": "markdown",
      "metadata": {
        "id": "4oE4w9C-_byq",
        "colab_type": "text"
      },
      "source": [
        "ready to pass this information to TabularDataBunch.from_df to create the DataBunch that we'll use for training."
      ]
    },
    {
      "cell_type": "code",
      "metadata": {
        "id": "eaLnEKw-_bys",
        "colab_type": "code",
        "outputId": "1831eca6-565f-4675-90bd-c037247abde8",
        "colab": {
          "base_uri": "https://localhost:8080/",
          "height": 110
        }
      },
      "source": [
        "test = TabularList.from_df(test_df, cat_names=cat_names, cont_names=[], procs=procs)\n",
        "\n",
        "\n",
        "data = (TabularList.from_df(train, path='.', cat_names=cat_names, procs=procs)\n",
        "                        .split_by_idx(list(valid_idx))  # this is for splitting into train and test set.\n",
        "                        .label_from_df(cols = label)\n",
        "                        .add_test(test, label=0)\n",
        "                        .databunch())\n",
        "print(data.train_ds.cat_names)\n",
        "print(data.train_ds.cont_names)\n",
        "print(data.test_ds.cat_names)\n",
        "print(data.test_ds.cont_names)"
      ],
      "execution_count": 0,
      "outputs": [
        {
          "output_type": "stream",
          "text": [
            "['r_dow', 'r_hod', 'a_er_cat', 'a_app_id', 'a_campaign_type_id', 'a_camp_id', 'a_group_id', 'r_source_id', 'c_id', 'r_site_id', 'r_country_id', 'r_region_code', 'r_platform', 'r_network_type', 'r_traffic_type', 'c_type', 'c_cta', 'c_text', 'c_size', 's_gerry_type', 's_caesar_id']\n",
            "[]\n",
            "['r_dow', 'r_hod', 'a_er_cat', 'a_app_id', 'a_campaign_type_id', 'a_camp_id', 'a_group_id', 'r_source_id', 'c_id', 'r_site_id', 'r_country_id', 'r_region_code', 'r_platform', 'r_network_type', 'r_traffic_type', 'c_type', 'c_cta', 'c_text', 'c_size', 's_gerry_type', 's_caesar_id']\n",
            "[]\n"
          ],
          "name": "stdout"
        }
      ]
    },
    {
      "cell_type": "code",
      "metadata": {
        "scrolled": true,
        "id": "F7cT8BaP_byx",
        "colab_type": "code",
        "outputId": "42698926-efc5-472d-cf07-9cc9679a2065",
        "colab": {
          "base_uri": "https://localhost:8080/",
          "height": 145
        }
      },
      "source": [
        "(cat_x,cont_x),y = next(iter(data.train_dl))\n",
        "for o in (cat_x, cont_x, y): print(to_np(o[:5]))"
      ],
      "execution_count": 0,
      "outputs": [
        {
          "output_type": "stream",
          "text": [
            "[[  2  23   1  48 ...   0   9   0   0]\n",
            " [  7  17   1   9 ...  71   1   0   0]\n",
            " [  5  12   1  19 ...   0   7   0   0]\n",
            " [  6   9   1  53 ... 130   1   0   0]\n",
            " [  3   8   1  47 ...   9   9   0   0]]\n",
            "[0 0 0 0 0]\n",
            "[0 0 0 0 0]\n"
          ],
          "name": "stdout"
        }
      ]
    },
    {
      "cell_type": "markdown",
      "metadata": {
        "id": "X2UZNqq-3VPj",
        "colab_type": "text"
      },
      "source": [
        "Why I used Beta(1):\n",
        "http://www.marcelonet.com/snippets/machine-learning/evaluation-metrix/f-beta-score"
      ]
    },
    {
      "cell_type": "code",
      "metadata": {
        "id": "E1GOj6gNSU_F",
        "colab_type": "code",
        "outputId": "6932ad47-d6ce-461a-d2a9-2cdfa4a6ab8f",
        "colab": {
          "base_uri": "https://localhost:8080/",
          "height": 399
        }
      },
      "source": [
        "emb_szs = { cat:25 for cat in cat_names}\n",
        "emb_szs"
      ],
      "execution_count": 0,
      "outputs": [
        {
          "output_type": "execute_result",
          "data": {
            "text/plain": [
              "{'a_app_id': 25,\n",
              " 'a_camp_id': 25,\n",
              " 'a_campaign_type_id': 25,\n",
              " 'a_er_cat': 25,\n",
              " 'a_group_id': 25,\n",
              " 'c_cta': 25,\n",
              " 'c_id': 25,\n",
              " 'c_size': 25,\n",
              " 'c_text': 25,\n",
              " 'c_type': 25,\n",
              " 'r_country_id': 25,\n",
              " 'r_dow': 25,\n",
              " 'r_hod': 25,\n",
              " 'r_network_type': 25,\n",
              " 'r_platform': 25,\n",
              " 'r_region_code': 25,\n",
              " 'r_site_id': 25,\n",
              " 'r_source_id': 25,\n",
              " 'r_traffic_type': 25,\n",
              " 's_caesar_id': 25,\n",
              " 's_gerry_type': 25}"
            ]
          },
          "metadata": {
            "tags": []
          },
          "execution_count": 17
        }
      ]
    },
    {
      "cell_type": "code",
      "metadata": {
        "id": "26ISjWy-_by2",
        "colab_type": "code",
        "colab": {}
      },
      "source": [
        "f1_score =FBeta(average='macro',beta = 1) #partial(fbeta, thresh=0.2, beta = 1)\n",
        "prec=Precision(average='macro')\n",
        "recall=Recall(average='macro')\n",
        "# acc_02 = partial(accuracy_thresh, thresh=0.2)\n",
        "learn = tabular_learner(data, layers=[1000, 200, 15], emb_szs=emb_szs, metrics=[error_rate,prec,recall,accuracy,f1_score],emb_drop=0.1, callback_fns=ShowGraph)"
      ],
      "execution_count": 0,
      "outputs": []
    },
    {
      "cell_type": "code",
      "metadata": {
        "id": "bY-Tux2_yTRD",
        "colab_type": "code",
        "colab": {}
      },
      "source": [
        "#partial(fbeta, thresh=0.2, beta = 1)\n",
        "#f_score = partial(fbeta, thresh=0.2)\n"
      ],
      "execution_count": 0,
      "outputs": []
    },
    {
      "cell_type": "code",
      "metadata": {
        "id": "i7CVJ87HIAWf",
        "colab_type": "code",
        "outputId": "a634fe10-b2ce-449b-bc0e-1c424209fd34",
        "colab": {
          "base_uri": "https://localhost:8080/",
          "height": 301
        }
      },
      "source": [
        "learn.lr_find()\n",
        "learn.recorder.plot()"
      ],
      "execution_count": 0,
      "outputs": [
        {
          "output_type": "display_data",
          "data": {
            "text/html": [
              ""
            ],
            "text/plain": [
              "<IPython.core.display.HTML object>"
            ]
          },
          "metadata": {
            "tags": []
          }
        },
        {
          "output_type": "stream",
          "text": [
            "LR Finder is complete, type {learner_name}.recorder.plot() to see the graph.\n"
          ],
          "name": "stdout"
        },
        {
          "output_type": "display_data",
          "data": {
            "image/png": "[encoded data removed]",
            "text/plain": [
              "<Figure size 432x288 with 1 Axes>"
            ]
          },
          "metadata": {
            "tags": []
          }
        }
      ]
    },
    {
      "cell_type": "code",
      "metadata": {
        "id": "2TQxvzCLD1QD",
        "colab_type": "code",
        "outputId": "bc9647b5-821e-4227-db8a-79ef6029f6b3",
        "colab": {
          "base_uri": "https://localhost:8080/",
          "height": 484
        }
      },
      "source": [
        "learn.fit_one_cycle(5, max_lr=slice(1e-01))"
      ],
      "execution_count": 0,
      "outputs": [
        {
          "output_type": "display_data",
          "data": {
            "text/html": [
              "\n",
              "    <div>\n",
              "        <style>\n",
              "            /* Turns off some styling */\n",
              "            progress {\n",
              "                /* gets rid of default border in Firefox and Opera. */\n",
              "                border: none;\n",
              "                /* Needs to be in here for Safari polyfill so background images work as expected. */\n",
              "                background-size: auto;\n",
              "            }\n",
              "            .progress-bar-interrupted, .progress-bar-interrupted::-webkit-progress-bar {\n",
              "                background: #F44336;\n",
              "            }\n",
              "        </style>\n",
              "      <progress value='4' class='' max='5', style='width:300px; height:20px; vertical-align: middle;'></progress>\n",
              "      80.00% [4/5 45:34<11:23]\n",
              "    </div>\n",
              "    \n",
              "<table border=\"1\" class=\"dataframe\">\n",
              "  <thead>\n",
              "    <tr style=\"text-align: left;\">\n",
              "      <th>epoch</th>\n",
              "      <th>train_loss</th>\n",
              "      <th>valid_loss</th>\n",
              "      <th>error_rate</th>\n",
              "      <th>precision</th>\n",
              "      <th>recall</th>\n",
              "      <th>accuracy</th>\n",
              "      <th>f_beta</th>\n",
              "      <th>time</th>\n",
              "    </tr>\n",
              "  </thead>\n",
              "  <tbody>\n",
              "    <tr>\n",
              "      <td>0</td>\n",
              "      <td>0.074772</td>\n",
              "      <td>440.350677</td>\n",
              "      <td>0.020001</td>\n",
              "      <td>0.498615</td>\n",
              "      <td>0.499894</td>\n",
              "      <td>0.979999</td>\n",
              "      <td>0.496063</td>\n",
              "      <td>11:06</td>\n",
              "    </tr>\n",
              "    <tr>\n",
              "      <td>1</td>\n",
              "      <td>0.086480</td>\n",
              "      <td>4802.898926</td>\n",
              "      <td>0.028393</td>\n",
              "      <td>0.612812</td>\n",
              "      <td>0.613519</td>\n",
              "      <td>0.971607</td>\n",
              "      <td>0.613165</td>\n",
              "      <td>11:14</td>\n",
              "    </tr>\n",
              "    <tr>\n",
              "      <td>2</td>\n",
              "      <td>0.085182</td>\n",
              "      <td>35.354660</td>\n",
              "      <td>0.018729</td>\n",
              "      <td>0.553187</td>\n",
              "      <td>0.500346</td>\n",
              "      <td>0.981271</td>\n",
              "      <td>0.496067</td>\n",
              "      <td>11:26</td>\n",
              "    </tr>\n",
              "    <tr>\n",
              "      <td>3</td>\n",
              "      <td>0.088402</td>\n",
              "      <td>0.072325</td>\n",
              "      <td>0.018926</td>\n",
              "      <td>0.702635</td>\n",
              "      <td>0.520614</td>\n",
              "      <td>0.981074</td>\n",
              "      <td>0.533695</td>\n",
              "      <td>11:41</td>\n",
              "    </tr>\n",
              "  </tbody>\n",
              "</table><p>\n",
              "\n",
              "    <div>\n",
              "        <style>\n",
              "            /* Turns off some styling */\n",
              "            progress {\n",
              "                /* gets rid of default border in Firefox and Opera. */\n",
              "                border: none;\n",
              "                /* Needs to be in here for Safari polyfill so background images work as expected. */\n",
              "                background-size: auto;\n",
              "            }\n",
              "            .progress-bar-interrupted, .progress-bar-interrupted::-webkit-progress-bar {\n",
              "                background: #F44336;\n",
              "            }\n",
              "        </style>\n",
              "      <progress value='25593' class='' max='37790', style='width:300px; height:20px; vertical-align: middle;'></progress>\n",
              "      67.72% [25593/37790 07:31<03:35 0.0742]\n",
              "    </div>\n",
              "    "
            ],
            "text/plain": [
              "<IPython.core.display.HTML object>"
            ]
          },
          "metadata": {
            "tags": []
          }
        },
        {
          "output_type": "display_data",
          "data": {
            "image/png": "[encoded data removed]",
            "text/plain": [
              "<Figure size 432x288 with 1 Axes>"
            ]
          },
          "metadata": {
            "tags": []
          }
        },
        {
          "output_type": "stream",
          "text": [
            "Buffered data was truncated after reaching the output size limit."
          ],
          "name": "stdout"
        }
      ]
    },
    {
      "cell_type": "code",
      "metadata": {
        "id": "z-G40SXzeLmZ",
        "colab_type": "code",
        "outputId": "2903d06a-eae6-4ce7-cac5-cc404e582114",
        "colab": {
          "base_uri": "https://localhost:8080/",
          "height": 35
        }
      },
      "source": [
        "# export weights as pickle\n",
        "learn.export()\n",
        "!ls ."
      ],
      "execution_count": 0,
      "outputs": [
        {
          "output_type": "stream",
          "text": [
            "drive  export.pkl  models  sample_data\n"
          ],
          "name": "stdout"
        }
      ]
    },
    {
      "cell_type": "code",
      "metadata": {
        "id": "N2TJukb90BAH",
        "colab_type": "code",
        "outputId": "8604dbd9-f1f0-4840-cf43-6eb9c096484c",
        "colab": {
          "base_uri": "https://localhost:8080/",
          "height": 54
        }
      },
      "source": [
        "thresh = 0.08\n",
        "print(learn.predict(test_df.loc[2418640], thresh=thresh) )\n",
        "print(learn.predict(test_df.loc[2418641], thresh=thresh) )\n",
        "#test_df.loc[2418585], test_df.iloc[0]"
      ],
      "execution_count": 28,
      "outputs": [
        {
          "output_type": "stream",
          "text": [
            "(Category 0, tensor(0), tensor([0.8084, 0.1916]))\n",
            "(Category 0, tensor(0), tensor([0.9624, 0.0376]))\n"
          ],
          "name": "stdout"
        }
      ]
    },
    {
      "cell_type": "code",
      "metadata": {
        "id": "dNnLls2gl66J",
        "colab_type": "code",
        "colab": {}
      },
      "source": [
        "# test_df"
      ],
      "execution_count": 0,
      "outputs": []
    },
    {
      "cell_type": "code",
      "metadata": {
        "id": "ybwd0Q-PQJ5C",
        "colab_type": "code",
        "colab": {}
      },
      "source": [
        "test_df[test_df['response'] == 1]"
      ],
      "execution_count": 0,
      "outputs": []
    },
    {
      "cell_type": "code",
      "metadata": {
        "id": "xOkrRWti4F43",
        "colab_type": "code",
        "outputId": "25bf6dce-1b5d-4a62-acc1-0fc4d9e03aeb",
        "colab": {
          "base_uri": "https://localhost:8080/",
          "height": 72
        }
      },
      "source": [
        "test_pos = test_df[test_df['response'] == 1]\n",
        "pos_cant = len(test_pos)\n",
        "print(\"positives:\",pos_cant)\n",
        "\n",
        "res = []\n",
        "for i in range(0,pos_cant):\n",
        "    pred = learn.predict(test_pos.iloc[i])\n",
        "    cat = pred[1].numpy()\n",
        "    val = pred[2].numpy()[1]\n",
        "    res.append((cat,val))\n",
        "\n",
        "arr = pd.DataFrame(res)\n",
        "pos = arr[arr[1] >= thresh]\n",
        "print(len(pos),len(arr))\n",
        "print(\"Sensitivity: \",len(pos)/len(arr))"
      ],
      "execution_count": 35,
      "outputs": [
        {
          "output_type": "stream",
          "text": [
            "positives: 5009\n",
            "2127 5009\n",
            "Sensitivity:  0.42463565581952484\n"
          ],
          "name": "stdout"
        }
      ]
    },
    {
      "cell_type": "code",
      "metadata": {
        "id": "97zX7Fdvz9Av",
        "colab_type": "code",
        "outputId": "31d34462-4e63-4226-88bd-7a5eb5eda08a",
        "colab": {
          "base_uri": "https://localhost:8080/",
          "height": 72
        }
      },
      "source": [
        "negative = test_df[test_df['response'] == 0]\n",
        "neg_cant = len(negative)\n",
        "print(\"negative:\",neg_cant)\n",
        "\n",
        "res_neg = []\n",
        "for i in range(0,int(10000)):\n",
        "    pred = learn.predict(negative.iloc[i])\n",
        "    cat = pred[1].numpy()\n",
        "    val = pred[2].numpy()[1]\n",
        "    res_neg.append((cat,val))\n",
        "\n",
        "arr_neg = pd.DataFrame(res_neg)\n",
        "\n",
        "neg = arr_neg[arr_neg[1] < thresh]\n",
        "print(len(neg),len(arr_neg))\n",
        "print(\"Specificity: \",len(neg)/len(arr_neg))"
      ],
      "execution_count": 30,
      "outputs": [
        {
          "output_type": "stream",
          "text": [
            "negative: 263723\n",
            "9596 10000\n",
            "Specificity:  0.9596\n"
          ],
          "name": "stdout"
        }
      ]
    },
    {
      "cell_type": "code",
      "metadata": {
        "id": "JQu2gRlRAcfG",
        "colab_type": "code",
        "outputId": "310bd999-e2d8-4de8-8968-af8d57c5332c",
        "colab": {
          "base_uri": "https://localhost:8080/",
          "height": 35
        }
      },
      "source": [
        "specificity = len(neg)/len(arr_neg)\n",
        "sensitivity = len(pos)/len(arr)\n",
        "specificity,sensitivity\n",
        "# train\n",
        "f1 = 2*sensitivity*specificity/ (specificity+sensitivity)\n",
        "print(\"F1 Score: \",f1)"
      ],
      "execution_count": 31,
      "outputs": [
        {
          "output_type": "stream",
          "text": [
            "F1 Score:  0.5799051705330521\n"
          ],
          "name": "stdout"
        }
      ]
    },
    {
      "cell_type": "code",
      "metadata": {
        "id": "_IaDzD9MhcRw",
        "colab_type": "code",
        "colab": {
          "base_uri": "https://localhost:8080/",
          "height": 347
        },
        "outputId": "76739cc3-1f3b-4ff7-e5cb-183ee4d5b7a2"
      },
      "source": [
        "def plot_confusion_matrix(self, normalize:bool=False, title:str='Confusion matrix', cmap:Any=\"Blues\", slice_size:int=1, norm_dec:int=2, **kwargs)->None:\n",
        "  \"Plot the confusion matrix, with `title` and using `cmap`.\"\n",
        "  # This function is mainly copied from the sklearn docs\n",
        "  cm = self.confusion_matrix(slice_size=slice_size)\n",
        "  cm[1][1] = len(pos)\n",
        "  cm[1][0] = len(arr) - len(pos)\n",
        "  plt.figure(**kwargs)\n",
        "  plt.imshow(cm, interpolation='nearest', cmap=cmap)\n",
        "  plt.title(title)\n",
        "  tick_marks = np.arange(self.data.c)\n",
        "  plt.xticks(tick_marks, self.data.y.classes, rotation=90)\n",
        "  plt.yticks(tick_marks, self.data.y.classes, rotation=0)\n",
        "\n",
        "  if normalize: cm = cm.astype('float') / cm.sum(axis=1)[:, np.newaxis]\n",
        "  thresh = cm.max() / 4.\n",
        "  for i, j in itertools.product(range(cm.shape[0]), range(cm.shape[1])):\n",
        "      coeff = f'{cm[i, j]:.{norm_dec}f}' if normalize else f'{cm[i, j]}'\n",
        "      plt.text(j, i, coeff, horizontalalignment=\"center\", color=\"white\" if cm[i, j] > thresh else \"black\")\n",
        "\n",
        "  plt.tight_layout()\n",
        "  plt.ylabel('Actual')\n",
        "  plt.xlabel('Predicted')\n",
        "   \n",
        "print(len(pos))\n",
        "interp = ClassificationInterpretation.from_learner(learn)\n",
        "print(interp.confusion_matrix())\n",
        "plot_confusion_matrix(interp)"
      ],
      "execution_count": 37,
      "outputs": [
        {
          "output_type": "stream",
          "text": [
            "[[263487    236]\n",
            " [  4833    176]]\n"
          ],
          "name": "stdout"
        },
        {
          "output_type": "display_data",
          "data": {
            "image/png": "[encoded data removed]",
            "text/plain": [
              "<Figure size 432x288 with 1 Axes>"
            ]
          },
          "metadata": {
            "tags": []
          }
        }
      ]
    }
  ]
}