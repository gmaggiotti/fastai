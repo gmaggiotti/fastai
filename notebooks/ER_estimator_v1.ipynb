{
 "cells": [
  {
   "cell_type": "markdown",
   "metadata": {
    "colab_type": "text",
    "id": "t3x53Twm0ti7"
   },
   "source": [
    "# ER estimator V1"
   ]
  },
  {
   "cell_type": "markdown",
   "metadata": {
    "colab_type": "text",
    "id": "mDCx1DIw0tjF"
   },
   "source": [
    "We import all the necessary packages. We are going to work with the [fastai V1 library](http://www.fast.ai/2018/10/02/fastai-ai/) which sits on top of [Pytorch 1.0](https://hackernoon.com/pytorch-1-0-468332ba5163). The fastai library provides many useful functions that enable us to quickly and easily build neural networks and train our models."
   ]
  },
  {
   "cell_type": "markdown",
   "metadata": {
    "id": "7kh1bvUj1XlD",
    "colab_type": "text"
   },
   "source": [
    "<img src=\"https://confusedcoders.com/wp-content/uploads/2019/06/untitled-3.jpg\">"
   ]
  },
  {
   "cell_type": "code",
   "execution_count": 0,
   "metadata": {
    "colab_type": "code",
    "id": "6iTppCrl0tjG",
    "colab": {}
   },
   "outputs": [],
   "source": [
    "from fastai.tabular import *\n",
    "from fastai.metrics import *"
   ]
  },
  {
   "cell_type": "code",
   "execution_count": 0,
   "metadata": {
    "colab_type": "code",
    "id": "ZX0Other0tk4",
    "outputId": "698184d4-53ed-4a2c-c942-30691a478c4d",
    "colab": {
     "base_uri": "https://localhost:8080/",
     "height": 128.0
    }
   },
   "outputs": [
    {
     "name": "stdout",
     "output_type": "stream",
     "text": [
      "Go to this URL in a browser: https://accounts.google.com/o/oauth2/auth?client_id=947318989803-6bn6qk8qdgf4n4g3pfee6491hc0brc4i.apps.googleusercontent.com&redirect_uri=urn%3Aietf%3Awg%3Aoauth%3A2.0%3Aoob&scope=email%20https%3A%2F%2Fwww.googleapis.com%2Fauth%2Fdocs.test%20https%3A%2F%2Fwww.googleapis.com%2Fauth%2Fdrive%20https%3A%2F%2Fwww.googleapis.com%2Fauth%2Fdrive.photos.readonly%20https%3A%2F%2Fwww.googleapis.com%2Fauth%2Fpeopleapi.readonly&response_type=code\n",
      "\n",
      "Enter your authorization code:\n",
      "··········\n",
      "Mounted at /content/drive\n"
     ]
    }
   ],
   "source": [
    "from google.colab import drive\n",
    "drive.mount('/content/drive')"
   ]
  },
  {
   "cell_type": "code",
   "execution_count": 0,
   "metadata": {
    "id": "02wMOkN2DtRq",
    "colab_type": "code",
    "colab": {}
   },
   "outputs": [],
   "source": [
    "train_file = \"20190912-to-20190918.csv\"\n",
    "# train_file = \"train-20190919-to-20190921.csv\"\n",
    "# test_file = \"test-20190919-to-20190921.csv\"\n",
    "path = '/content/drive/My Drive/'"
   ]
  },
  {
   "cell_type": "code",
   "execution_count": 0,
   "metadata": {
    "colab_type": "code",
    "id": "XyU6Hri50tk7",
    "outputId": "459316ca-e864-4a44-df93-bc6577c55754",
    "colab": {
     "base_uri": "https://localhost:8080/",
     "height": 163.0
    }
   },
   "outputs": [
    {
     "data": {
      "text/plain": [
       "(   r_dow  r_hod  a_er_cat  ...  s_gerry_type  s_caesar_id  response\n",
       " 0      0     19         0  ...           0.0          NaN         0\n",
       " 1      0     19         0  ...           NaN          NaN         0\n",
       " 2      0     19         3  ...           NaN          NaN         0\n",
       " 3      0     19         0  ...           NaN          NaN         0\n",
       " 4      0     19         0  ...           NaN          NaN         0\n",
       " \n",
       " [5 rows x 22 columns], 2687317)"
      ]
     },
     "execution_count": 4,
     "metadata": {
      "tags": []
     },
     "output_type": "execute_result"
    }
   ],
   "source": [
    "train = pd.read_csv(path+train_file)\n",
    "train = train.drop(columns=[\"sid\",\"time\",\"r_site_iab_cats\",\"g_event_id\"])\n",
    "train[0:5], len(train)"
   ]
  },
  {
   "cell_type": "code",
   "execution_count": 0,
   "metadata": {
    "id": "icjMTVa4htgf",
    "colab_type": "code",
    "outputId": "749c76ea-19bd-4477-a76a-b7341ad05ac7",
    "colab": {
     "base_uri": "https://localhost:8080/",
     "height": 35.0
    }
   },
   "outputs": [
    {
     "data": {
      "text/plain": [
       "range(2418585, 2687317)"
      ]
     },
     "execution_count": 5,
     "metadata": {
      "tags": []
     },
     "output_type": "execute_result"
    }
   ],
   "source": [
    "# extraction the test set from main dataset\n",
    "valid_idx = range(int(len(train)*0.9), len(train))\n",
    "valid_idx"
   ]
  },
  {
   "cell_type": "code",
   "execution_count": 0,
   "metadata": {
    "id": "8v_Y8FjC8y5Q",
    "colab_type": "code",
    "outputId": "2bbf66a9-51b6-4301-8688-5256ecae1e28",
    "colab": {
     "base_uri": "https://localhost:8080/",
     "height": 163.0
    }
   },
   "outputs": [
    {
     "data": {
      "text/plain": [
       "(         r_dow  r_hod  a_er_cat  ...  s_gerry_type  s_caesar_id  response\n",
       " 2418585      0      7         0  ...           0.0          NaN         0\n",
       " 2418586      0      7         0  ...           NaN          NaN         0\n",
       " 2418587      0      7         0  ...           NaN          NaN         0\n",
       " 2418588      0      7         0  ...           NaN          NaN         0\n",
       " 2418589      0      7         0  ...           NaN          NaN         0\n",
       " \n",
       " [5 rows x 22 columns], 268732)"
      ]
     },
     "execution_count": 6,
     "metadata": {
      "tags": []
     },
     "output_type": "execute_result"
    }
   ],
   "source": [
    "test_df = train.iloc[valid_idx].copy()\n",
    "# test_df = pd.read_csv(path+test_file)\n",
    "# test_df = test_df.drop(columns=[\"sid\",\"time\",\"r_site_iab_cats\",\"g_event_id\"])\n",
    "test_df.head(), len(test_df)"
   ]
  },
  {
   "cell_type": "code",
   "execution_count": 0,
   "metadata": {
    "colab_type": "code",
    "id": "Yfv9Rjn_0tlZ",
    "colab": {}
   },
   "outputs": [],
   "source": [
    "# We can define a bunch of Transforms that will be applied to our variables. Here we transform all categorical variables into categories. We also replace missing values for continuous variables by the median column value and normalize those."
   ]
  },
  {
   "cell_type": "code",
   "execution_count": 0,
   "metadata": {
    "id": "T6M0RAls_byR",
    "colab_type": "code",
    "colab": {}
   },
   "outputs": [],
   "source": [
    "procs = [FillMissing, Categorify, Normalize]"
   ]
  },
  {
   "cell_type": "markdown",
   "metadata": {
    "id": "fT3TAwQA_byi",
    "colab_type": "text"
   },
   "source": [
    "let's split our variables into categorical and continuous variables (we can ignore the label variable at this stage). fastai will assume all variables that aren't labels or categorical are continuous, unless we explicitly pass a list to the cont_names parameter when constructing our DataBunch."
   ]
  },
  {
   "cell_type": "code",
   "execution_count": 0,
   "metadata": {
    "id": "S8mW8RzW_byl",
    "colab_type": "code",
    "outputId": "d2f483d3-bb4e-4305-a2ee-6859ab3def8d",
    "colab": {
     "base_uri": "https://localhost:8080/",
     "height": 399.0
    }
   },
   "outputs": [
    {
     "data": {
      "text/plain": [
       "['r_dow',\n",
       " 'r_hod',\n",
       " 'a_er_cat',\n",
       " 'a_app_id',\n",
       " 'a_campaign_type_id',\n",
       " 'a_camp_id',\n",
       " 'a_group_id',\n",
       " 'r_source_id',\n",
       " 'c_id',\n",
       " 'r_site_id',\n",
       " 'r_country_id',\n",
       " 'r_region_code',\n",
       " 'r_platform',\n",
       " 'r_network_type',\n",
       " 'r_traffic_type',\n",
       " 'c_type',\n",
       " 'c_cta',\n",
       " 'c_text',\n",
       " 'c_size',\n",
       " 's_gerry_type',\n",
       " 's_caesar_id']"
      ]
     },
     "execution_count": 9,
     "metadata": {
      "tags": []
     },
     "output_type": "execute_result"
    }
   ],
   "source": [
    "label = 'response'\n",
    "cat_names = [cat for cat in train.columns][:-1]\n",
    "cat_names"
   ]
  },
  {
   "cell_type": "markdown",
   "metadata": {
    "id": "4oE4w9C-_byq",
    "colab_type": "text"
   },
   "source": [
    "ready to pass this information to TabularDataBunch.from_df to create the DataBunch that we'll use for training."
   ]
  },
  {
   "cell_type": "code",
   "execution_count": 0,
   "metadata": {
    "id": "eaLnEKw-_bys",
    "colab_type": "code",
    "outputId": "92f7ae23-8955-4b23-de94-e89b90a84860",
    "colab": {
     "base_uri": "https://localhost:8080/",
     "height": 110.0
    }
   },
   "outputs": [
    {
     "name": "stdout",
     "output_type": "stream",
     "text": [
      "['r_dow', 'r_hod', 'a_er_cat', 'a_app_id', 'a_campaign_type_id', 'a_camp_id', 'a_group_id', 'r_source_id', 'c_id', 'r_site_id', 'r_country_id', 'r_region_code', 'r_platform', 'r_network_type', 'r_traffic_type', 'c_type', 'c_cta', 'c_text', 'c_size', 's_gerry_type', 's_caesar_id']\n",
      "[]\n",
      "['r_dow', 'r_hod', 'a_er_cat', 'a_app_id', 'a_campaign_type_id', 'a_camp_id', 'a_group_id', 'r_source_id', 'c_id', 'r_site_id', 'r_country_id', 'r_region_code', 'r_platform', 'r_network_type', 'r_traffic_type', 'c_type', 'c_cta', 'c_text', 'c_size', 's_gerry_type', 's_caesar_id']\n",
      "[]\n"
     ]
    }
   ],
   "source": [
    "test = TabularList.from_df(test_df, cat_names=cat_names, cont_names=[], procs=procs)\n",
    "\n",
    "\n",
    "data = (TabularList.from_df(train, path='.', cat_names=cat_names, procs=procs)\n",
    "                        .split_by_idx(list(valid_idx))  # this is for splitting into train and test set.\n",
    "                        .label_from_df(cols = label)\n",
    "                        .add_test(test, label=0)\n",
    "                        .databunch())\n",
    "print(data.train_ds.cat_names)\n",
    "print(data.train_ds.cont_names)\n",
    "print(data.test_ds.cat_names)\n",
    "print(data.test_ds.cont_names)"
   ]
  },
  {
   "cell_type": "code",
   "execution_count": 0,
   "metadata": {
    "scrolled": true,
    "id": "F7cT8BaP_byx",
    "colab_type": "code",
    "outputId": "8398aa81-47cf-4408-cf34-05af3d7ec1b7",
    "colab": {
     "base_uri": "https://localhost:8080/",
     "height": 145.0
    }
   },
   "outputs": [
    {
     "name": "stdout",
     "output_type": "stream",
     "text": [
      "[[  3  12   1  11 ...   0   9   0   0]\n",
      " [  2  16   1  55 ...  29   1   0   0]\n",
      " [  5  17   1  11 ... 275   1   0   0]\n",
      " [  1   4   1  30 ...   0   9   0   0]\n",
      " [  1   2   1   9 ...   0  13   0   0]]\n",
      "[0 0 0 0 0]\n",
      "[0 0 0 0 0]\n"
     ]
    }
   ],
   "source": [
    "(cat_x,cont_x),y = next(iter(data.train_dl))\n",
    "for o in (cat_x, cont_x, y): print(to_np(o[:5]))"
   ]
  },
  {
   "cell_type": "markdown",
   "metadata": {
    "id": "X2UZNqq-3VPj",
    "colab_type": "text"
   },
   "source": [
    "Why I used Beta(1):\n",
    "http://www.marcelonet.com/snippets/machine-learning/evaluation-metrix/f-beta-score"
   ]
  },
  {
   "cell_type": "code",
   "execution_count": 0,
   "metadata": {
    "id": "E1GOj6gNSU_F",
    "colab_type": "code",
    "outputId": "37f51b35-3498-4321-e30d-94a5c3951fce",
    "colab": {
     "base_uri": "https://localhost:8080/",
     "height": 399.0
    }
   },
   "outputs": [
    {
     "data": {
      "text/plain": [
       "{'a_app_id': 25,\n",
       " 'a_camp_id': 25,\n",
       " 'a_campaign_type_id': 25,\n",
       " 'a_er_cat': 25,\n",
       " 'a_group_id': 25,\n",
       " 'c_cta': 25,\n",
       " 'c_id': 25,\n",
       " 'c_size': 25,\n",
       " 'c_text': 25,\n",
       " 'c_type': 25,\n",
       " 'r_country_id': 25,\n",
       " 'r_dow': 25,\n",
       " 'r_hod': 25,\n",
       " 'r_network_type': 25,\n",
       " 'r_platform': 25,\n",
       " 'r_region_code': 25,\n",
       " 'r_site_id': 25,\n",
       " 'r_source_id': 25,\n",
       " 'r_traffic_type': 25,\n",
       " 's_caesar_id': 25,\n",
       " 's_gerry_type': 25}"
      ]
     },
     "execution_count": 12,
     "metadata": {
      "tags": []
     },
     "output_type": "execute_result"
    }
   ],
   "source": [
    "emb_szs = { cat:25 for cat in cat_names}\n",
    "emb_szs"
   ]
  },
  {
   "cell_type": "code",
   "execution_count": 0,
   "metadata": {
    "id": "26ISjWy-_by2",
    "colab_type": "code",
    "colab": {}
   },
   "outputs": [],
   "source": [
    "f1_score =FBeta(average='macro',beta = 1) #partial(fbeta, thresh=0.2, beta = 1)\n",
    "prec=Precision(average='macro')\n",
    "recall=Recall(average='macro')\n",
    "# acc_02 = partial(accuracy_thresh, thresh=0.2)\n",
    "learn = tabular_learner(data, layers=[1000, 200, 15], emb_szs=emb_szs, metrics=[error_rate,prec,recall,accuracy,f1_score],emb_drop=0.1, callback_fns=ShowGraph)"
   ]
  },
  {
   "cell_type": "code",
   "execution_count": 0,
   "metadata": {
    "id": "bY-Tux2_yTRD",
    "colab_type": "code",
    "colab": {}
   },
   "outputs": [],
   "source": [
    "#partial(fbeta, thresh=0.2, beta = 1)\n",
    "#f_score = partial(fbeta, thresh=0.2)\n"
   ]
  },
  {
   "cell_type": "code",
   "execution_count": 0,
   "metadata": {
    "id": "i7CVJ87HIAWf",
    "colab_type": "code",
    "outputId": "c2dcd564-5320-4416-e9eb-b1de6cf66fcc",
    "colab": {
     "base_uri": "https://localhost:8080/",
     "height": 301.0
    }
   },
   "outputs": [
    {
     "data": {
      "text/html": [
       ""
      ],
      "text/plain": [
       "<IPython.core.display.HTML object>"
      ]
     },
     "metadata": {
      "tags": []
     },
     "output_type": "execute_result"
    },
    {
     "name": "stdout",
     "output_type": "stream",
     "text": [
      "LR Finder is complete, type {learner_name}.recorder.plot() to see the graph.\n"
     ]
    },
    {
     "data": {
      "image/png": "[encoded data removed]",
      "text/plain": [
       "<Figure size 432x288 with 1 Axes>"
      ]
     },
     "metadata": {
      "tags": []
     },
     "output_type": "display_data"
    }
   ],
   "source": [
    "learn.lr_find()\n",
    "learn.recorder.plot()"
   ]
  },
  {
   "cell_type": "code",
   "execution_count": 0,
   "metadata": {
    "id": "2TQxvzCLD1QD",
    "colab_type": "code",
    "outputId": "9e1c8b2a-1ab7-47a9-f6d0-da293e4f46cc",
    "colab": {
     "base_uri": "https://localhost:8080/",
     "height": 330.0
    }
   },
   "outputs": [
    {
     "data": {
      "text/html": [
       "<table border=\"1\" class=\"dataframe\">\n",
       "  <thead>\n",
       "    <tr style=\"text-align: left;\">\n",
       "      <th>epoch</th>\n",
       "      <th>train_loss</th>\n",
       "      <th>valid_loss</th>\n",
       "      <th>error_rate</th>\n",
       "      <th>precision</th>\n",
       "      <th>recall</th>\n",
       "      <th>accuracy</th>\n",
       "      <th>f_beta</th>\n",
       "      <th>time</th>\n",
       "    </tr>\n",
       "  </thead>\n",
       "  <tbody>\n",
       "    <tr>\n",
       "      <td>0</td>\n",
       "      <td>0.070079</td>\n",
       "      <td>0.072753</td>\n",
       "      <td>0.019019</td>\n",
       "      <td>0.703470</td>\n",
       "      <td>0.527911</td>\n",
       "      <td>0.980981</td>\n",
       "      <td>0.545678</td>\n",
       "      <td>10:38</td>\n",
       "    </tr>\n",
       "  </tbody>\n",
       "</table>"
      ],
      "text/plain": [
       "<IPython.core.display.HTML object>"
      ]
     },
     "metadata": {
      "tags": []
     },
     "output_type": "execute_result"
    },
    {
     "data": {
      "image/png": "[encoded data removed]",
      "text/plain": [
       "<Figure size 432x288 with 1 Axes>"
      ]
     },
     "metadata": {
      "tags": []
     },
     "output_type": "display_data"
    }
   ],
   "source": [
    "learn.fit_one_cycle(1, max_lr=slice(1e-01))"
   ]
  },
  {
   "cell_type": "code",
   "execution_count": 0,
   "metadata": {
    "id": "z-G40SXzeLmZ",
    "colab_type": "code",
    "outputId": "0e3d6234-9e27-4409-afe2-0667fbd023ea",
    "colab": {
     "base_uri": "https://localhost:8080/",
     "height": 35.0
    }
   },
   "outputs": [
    {
     "name": "stdout",
     "output_type": "stream",
     "text": [
      "drive  export.pkl  models  sample_data\n"
     ]
    }
   ],
   "source": [
    "# export weights as pickle\n",
    "learn.export()\n",
    "!ls ."
   ]
  },
  {
   "cell_type": "code",
   "execution_count": 0,
   "metadata": {
    "id": "bL9N2i6UCAbP",
    "colab_type": "code",
    "outputId": "e0952825-5541-4529-a835-c634c6c9509d",
    "colab": {
     "base_uri": "https://localhost:8080/",
     "height": 301.0
    }
   },
   "outputs": [
    {
     "data": {
      "text/html": [
       ""
      ],
      "text/plain": [
       "<IPython.core.display.HTML object>"
      ]
     },
     "metadata": {
      "tags": []
     },
     "output_type": "execute_result"
    },
    {
     "name": "stdout",
     "output_type": "stream",
     "text": [
      "LR Finder is complete, type {learner_name}.recorder.plot() to see the graph.\n"
     ]
    },
    {
     "data": {
      "image/png": "[encoded data removed]",
      "text/plain": [
       "<Figure size 432x288 with 1 Axes>"
      ]
     },
     "metadata": {
      "tags": []
     },
     "output_type": "display_data"
    }
   ],
   "source": [
    "learn.lr_find()\n",
    "learn.recorder.plot()"
   ]
  },
  {
   "cell_type": "code",
   "execution_count": 17,
   "metadata": {
    "id": "B63d-d0d9Unu",
    "colab_type": "code",
    "outputId": "2c5bc333-d2f1-4063-bba6-98cb5d6d6456",
    "colab": {
     "base_uri": "https://localhost:8080/",
     "height": 330.0
    }
   },
   "outputs": [
    {
     "data": {
      "text/html": [
       "<table border=\"1\" class=\"dataframe\">\n",
       "  <thead>\n",
       "    <tr style=\"text-align: left;\">\n",
       "      <th>epoch</th>\n",
       "      <th>train_loss</th>\n",
       "      <th>valid_loss</th>\n",
       "      <th>error_rate</th>\n",
       "      <th>precision</th>\n",
       "      <th>recall</th>\n",
       "      <th>accuracy</th>\n",
       "      <th>f_beta</th>\n",
       "      <th>time</th>\n",
       "    </tr>\n",
       "  </thead>\n",
       "  <tbody>\n",
       "    <tr>\n",
       "      <td>0</td>\n",
       "      <td>0.082749</td>\n",
       "      <td>0.071425</td>\n",
       "      <td>0.018952</td>\n",
       "      <td>0.701904</td>\n",
       "      <td>0.521972</td>\n",
       "      <td>0.981048</td>\n",
       "      <td>0.535970</td>\n",
       "      <td>10:49</td>\n",
       "    </tr>\n",
       "  </tbody>\n",
       "</table>"
      ],
      "text/plain": [
       "<IPython.core.display.HTML object>"
      ]
     },
     "metadata": {
      "tags": []
     },
     "output_type": "execute_result"
    },
    {
     "data": {
      "image/png": "[encoded data removed]",
      "text/plain": [
       "<Figure size 432x288 with 1 Axes>"
      ]
     },
     "metadata": {
      "tags": []
     },
     "output_type": "display_data"
    }
   ],
   "source": [
    "learn.fit_one_cycle(1, max_lr=slice(1e-05))"
   ]
  },
  {
   "cell_type": "code",
   "execution_count": 19,
   "metadata": {
    "id": "UWplIJWbew-U",
    "colab_type": "code",
    "colab": {
     "base_uri": "https://localhost:8080/",
     "height": 90.0
    },
    "outputId": "17479943-e938-418e-d91d-4cd7fb3b9283"
   },
   "outputs": [
    {
     "name": "stdout",
     "output_type": "stream",
     "text": [
      "268732 268732\n",
      "recall 0.11913277533729102\n",
      "precision 0.11540109846748965\n",
      "fscore 0.1172372494801969\n"
     ]
    }
   ],
   "source": [
    "#\n",
    "# Calculate Recall and Precison and Fscore metrics from the test set\n",
    "#\n",
    "predictions, *_ = learn.get_preds(DatasetType.Test)\n",
    "labels = test_df['response']\n",
    "submission = pd.DataFrame({'prediction' :predictions[:,1] ,'label': labels})\n",
    "\n",
    "print(len(predictions),len(labels))\n",
    "recall = submission[ submission['label'] == 1 ].mean()['prediction']\n",
    "precision = submission[ submission['label'] == 1 ].sum()['prediction']/ submission.sum()['prediction']\n",
    "\n",
    "fscore = 2 * precision * recall /(precision + recall)\n",
    "\n",
    "print(\"recall\",recall)\n",
    "print(\"precision\",precision)\n",
    "print(\"fscore\",fscore)"
   ]
  },
  {
   "cell_type": "code",
   "execution_count": 20,
   "metadata": {
    "id": "N2TJukb90BAH",
    "colab_type": "code",
    "outputId": "4ff597f5-8aa1-440d-e310-bfb27afbd278",
    "colab": {
     "base_uri": "https://localhost:8080/",
     "height": 54.0
    }
   },
   "outputs": [
    {
     "name": "stdout",
     "output_type": "stream",
     "text": [
      "(Category 0, tensor(0), tensor([0.7720, 0.2280]))\n",
      "(Category 0, tensor(0), tensor([0.9556, 0.0444]))\n"
     ]
    }
   ],
   "source": [
    "thresh = 0.08\n",
    "print(learn.predict(test_df.loc[2418640], thresh=thresh) )\n",
    "print(learn.predict(test_df.loc[2418641], thresh=thresh) )\n",
    "#test_df.loc[2418585], test_df.iloc[0]"
   ]
  },
  {
   "cell_type": "code",
   "execution_count": 0,
   "metadata": {
    "id": "dNnLls2gl66J",
    "colab_type": "code",
    "colab": {}
   },
   "outputs": [],
   "source": [
    "# test_df"
   ]
  },
  {
   "cell_type": "code",
   "execution_count": 35,
   "metadata": {
    "id": "ybwd0Q-PQJ5C",
    "colab_type": "code",
    "outputId": "1675a7a7-2dfe-48b8-8806-e4bde6653b4b",
    "colab": {
     "base_uri": "https://localhost:8080/",
     "height": 54.0
    }
   },
   "outputs": [
    {
     "name": "stdout",
     "output_type": "stream",
     "text": [
      "2075 5009\n",
      "Sensitivity:  0.4142543421840687\n"
     ]
    }
   ],
   "source": [
    "pos= submission[submission['label'] == 1]\n",
    "true_p = pos[pos['prediction'] >= thresh]\n",
    "print(len(true_p),len(pos))\n",
    "print(\"Sensitivity: \",len(true_p)/len(pos))"
   ]
  },
  {
   "cell_type": "code",
   "execution_count": 39,
   "metadata": {
    "id": "uYirYF9zp0Vf",
    "colab_type": "code",
    "colab": {
     "base_uri": "https://localhost:8080/",
     "height": 54.0
    },
    "outputId": "52bf6729-f255-4176-e1e5-6d4c99fa88bc"
   },
   "outputs": [
    {
     "name": "stdout",
     "output_type": "stream",
     "text": [
      "253974 263723\n",
      "Specificity:  0.9630331825438054\n"
     ]
    }
   ],
   "source": [
    "neg= submission[submission['label'] == 0]\n",
    "true_n = neg[neg['prediction'] < thresh]\n",
    "print(len(true_n),len(neg))\n",
    "print(\"Specificity: \",len(true_n)/len(neg))"
   ]
  },
  {
   "cell_type": "code",
   "execution_count": 0,
   "metadata": {
    "id": "_IaDzD9MhcRw",
    "colab_type": "code",
    "outputId": "76739cc3-1f3b-4ff7-e5cb-183ee4d5b7a2",
    "colab": {
     "base_uri": "https://localhost:8080/",
     "height": 347.0
    }
   },
   "outputs": [
    {
     "name": "stdout",
     "output_type": "stream",
     "text": [
      "[[263487    236]\n",
      " [  4833    176]]\n"
     ]
    },
    {
     "data": {
      "image/png": "[encoded data removed]",
      "text/plain": [
       "<Figure size 432x288 with 1 Axes>"
      ]
     },
     "metadata": {
      "tags": []
     },
     "output_type": "display_data"
    }
   ],
   "source": [
    "def plot_confusion_matrix(self, normalize:bool=False, title:str='Confusion matrix', cmap:Any=\"Blues\", slice_size:int=1, norm_dec:int=2, **kwargs)->None:\n",
    "  \"Plot the confusion matrix, with `title` and using `cmap`.\"\n",
    "  # This function is mainly copied from the sklearn docs\n",
    "  cm = self.confusion_matrix(slice_size=slice_size)\n",
    "  cm[1][1] = len(pos)\n",
    "  cm[1][0] = len(arr) - len(pos)\n",
    "  plt.figure(**kwargs)\n",
    "  plt.imshow(cm, interpolation='nearest', cmap=cmap)\n",
    "  plt.title(title)\n",
    "  tick_marks = np.arange(self.data.c)\n",
    "  plt.xticks(tick_marks, self.data.y.classes, rotation=90)\n",
    "  plt.yticks(tick_marks, self.data.y.classes, rotation=0)\n",
    "\n",
    "  if normalize: cm = cm.astype('float') / cm.sum(axis=1)[:, np.newaxis]\n",
    "  thresh = cm.max() / 4.\n",
    "  for i, j in itertools.product(range(cm.shape[0]), range(cm.shape[1])):\n",
    "      coeff = f'{cm[i, j]:.{norm_dec}f}' if normalize else f'{cm[i, j]}'\n",
    "      plt.text(j, i, coeff, horizontalalignment=\"center\", color=\"white\" if cm[i, j] > thresh else \"black\")\n",
    "\n",
    "  plt.tight_layout()\n",
    "  plt.ylabel('Actual')\n",
    "  plt.xlabel('Predicted')\n",
    "   \n",
    "print(len(pos))\n",
    "interp = ClassificationInterpretation.from_learner(learn)\n",
    "print(interp.confusion_matrix())\n",
    "plot_confusion_matrix(interp)"
   ]
  },
  {
   "cell_type": "code",
   "execution_count": 0,
   "metadata": {
    "id": "2xk8UCXqBYsH",
    "colab_type": "code",
    "outputId": "b278a264-120b-48b0-fb5c-606870baa7bc",
    "colab": {
     "base_uri": "https://localhost:8080/",
     "height": 54.0
    }
   },
   "outputs": [
    {
     "name": "stdout",
     "output_type": "stream",
     "text": [
      "[[263487    236]\n",
      " [  4833    176]]\n"
     ]
    }
   ],
   "source": [
    "print(interp.confusion_matrix())"
   ]
  }
 ],
 "metadata": {
  "accelerator": "GPU",
  "colab": {
   "name": "ER_estimator-v1.ipynb",
   "provenance": [],
   "collapsed_sections": []
  },
  "kernelspec": {
   "display_name": "Python fastai",
   "language": "python",
   "name": "fastai"
  },
  "language_info": {
   "codemirror_mode": {
    "name": "ipython",
    "version": 3
   },
   "file_extension": ".py",
   "mimetype": "text/x-python",
   "name": "python",
   "nbconvert_exporter": "python",
   "pygments_lexer": "ipython3",
   "version": "3.7.4"
  }
 },
 "nbformat": 4,
 "nbformat_minor": 0
}
