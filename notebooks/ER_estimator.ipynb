{
 "cells": [
  {
   "cell_type": "markdown",
   "metadata": {
    "colab_type": "text",
    "id": "t3x53Twm0ti7"
   },
   "source": [
    "# ER estimator "
   ]
  },
  {
   "cell_type": "markdown",
   "metadata": {
    "colab_type": "text",
    "id": "mDCx1DIw0tjF"
   },
   "source": [
    "We import all the necessary packages. We are going to work with the [fastai V1 library](http://www.fast.ai/2018/10/02/fastai-ai/) which sits on top of [Pytorch 1.0](https://hackernoon.com/pytorch-1-0-468332ba5163). The fastai library provides many useful functions that enable us to quickly and easily build neural networks and train our models."
   ]
  },
  {
   "cell_type": "code",
   "execution_count": 3,
   "metadata": {
    "colab": {},
    "colab_type": "code",
    "id": "6iTppCrl0tjG"
   },
   "outputs": [],
   "source": [
    "from fastai.tabular import *\n",
    "from fastai.metrics import error_rate"
   ]
  },
  {
   "cell_type": "markdown",
   "metadata": {
    "colab_type": "text",
    "id": "ZNEbu3al0tk4"
   },
   "source": [
    "## Other data formats"
   ]
  },
  {
   "cell_type": "code",
   "execution_count": 4,
   "metadata": {
    "colab": {},
    "colab_type": "code",
    "id": "ZX0Other0tk4",
    "outputId": "d618da72-7f6c-4bbf-cfeb-f2de2bdcdcea"
   },
   "outputs": [
    {
     "data": {
      "text/plain": [
       "[PosixPath('../datasets/.~lock.20190919-to-20190921.csv#'),\n",
       " PosixPath('../datasets/20190912-to-20190918.csv'),\n",
       " PosixPath('../datasets/20190919-to-20190921.csv')]"
      ]
     },
     "execution_count": 4,
     "metadata": {},
     "output_type": "execute_result"
    }
   ],
   "source": [
    " path = Path('../datasets')\n",
    "(path/\"\").ls()"
   ]
  },
  {
   "cell_type": "code",
   "execution_count": 6,
   "metadata": {
    "colab": {},
    "colab_type": "code",
    "id": "XyU6Hri50tk7"
   },
   "outputs": [
    {
     "data": {
      "text/html": [
       "<div>\n",
       "<style scoped>\n",
       "    .dataframe tbody tr th:only-of-type {\n",
       "        vertical-align: middle;\n",
       "    }\n",
       "\n",
       "    .dataframe tbody tr th {\n",
       "        vertical-align: top;\n",
       "    }\n",
       "\n",
       "    .dataframe thead th {\n",
       "        text-align: right;\n",
       "    }\n",
       "</style>\n",
       "<table border=\"1\" class=\"dataframe\">\n",
       "  <thead>\n",
       "    <tr style=\"text-align: right;\">\n",
       "      <th></th>\n",
       "      <th>g_event_id</th>\n",
       "      <th>r_dow</th>\n",
       "      <th>r_hod</th>\n",
       "      <th>a_er_cat</th>\n",
       "      <th>a_app_id</th>\n",
       "      <th>a_campaign_type_id</th>\n",
       "      <th>a_camp_id</th>\n",
       "      <th>a_group_id</th>\n",
       "      <th>r_source_id</th>\n",
       "      <th>c_id</th>\n",
       "      <th>...</th>\n",
       "      <th>r_platform</th>\n",
       "      <th>r_network_type</th>\n",
       "      <th>r_traffic_type</th>\n",
       "      <th>c_type</th>\n",
       "      <th>c_cta</th>\n",
       "      <th>c_text</th>\n",
       "      <th>c_size</th>\n",
       "      <th>s_gerry_type</th>\n",
       "      <th>s_caesar_id</th>\n",
       "      <th>response</th>\n",
       "    </tr>\n",
       "  </thead>\n",
       "  <tbody>\n",
       "    <tr>\n",
       "      <td>0</td>\n",
       "      <td>-4</td>\n",
       "      <td>0</td>\n",
       "      <td>19</td>\n",
       "      <td>0</td>\n",
       "      <td>2214</td>\n",
       "      <td>2</td>\n",
       "      <td>6732</td>\n",
       "      <td>15102</td>\n",
       "      <td>69</td>\n",
       "      <td>6372771</td>\n",
       "      <td>...</td>\n",
       "      <td>ANDROID</td>\n",
       "      <td>cellular</td>\n",
       "      <td>app</td>\n",
       "      <td>HTML</td>\n",
       "      <td>XEM NGAY</td>\n",
       "      <td>ƯU ĐÃI ĐẾN 60%</td>\n",
       "      <td>3200480</td>\n",
       "      <td>NaN</td>\n",
       "      <td>NaN</td>\n",
       "      <td>0</td>\n",
       "    </tr>\n",
       "    <tr>\n",
       "      <td>1</td>\n",
       "      <td>-4</td>\n",
       "      <td>0</td>\n",
       "      <td>20</td>\n",
       "      <td>0</td>\n",
       "      <td>1087</td>\n",
       "      <td>2</td>\n",
       "      <td>25179</td>\n",
       "      <td>25740</td>\n",
       "      <td>253</td>\n",
       "      <td>6371282</td>\n",
       "      <td>...</td>\n",
       "      <td>ANDROID</td>\n",
       "      <td>wifi</td>\n",
       "      <td>app</td>\n",
       "      <td>IMAGE</td>\n",
       "      <td>NaN</td>\n",
       "      <td>NaN</td>\n",
       "      <td>3200480</td>\n",
       "      <td>NaN</td>\n",
       "      <td>NaN</td>\n",
       "      <td>0</td>\n",
       "    </tr>\n",
       "    <tr>\n",
       "      <td>2</td>\n",
       "      <td>-4</td>\n",
       "      <td>0</td>\n",
       "      <td>20</td>\n",
       "      <td>0</td>\n",
       "      <td>1061</td>\n",
       "      <td>2</td>\n",
       "      <td>25401</td>\n",
       "      <td>26160</td>\n",
       "      <td>69</td>\n",
       "      <td>6381865</td>\n",
       "      <td>...</td>\n",
       "      <td>ANDROID</td>\n",
       "      <td>cellular</td>\n",
       "      <td>app</td>\n",
       "      <td>HTML</td>\n",
       "      <td>Pesan Sekarang</td>\n",
       "      <td>Saat waktu tak memberi \\nbanyak pilihan, cek G...</td>\n",
       "      <td>4800320</td>\n",
       "      <td>0.0</td>\n",
       "      <td>NaN</td>\n",
       "      <td>0</td>\n",
       "    </tr>\n",
       "    <tr>\n",
       "      <td>3</td>\n",
       "      <td>-4</td>\n",
       "      <td>0</td>\n",
       "      <td>20</td>\n",
       "      <td>0</td>\n",
       "      <td>2214</td>\n",
       "      <td>2</td>\n",
       "      <td>6732</td>\n",
       "      <td>15102</td>\n",
       "      <td>259</td>\n",
       "      <td>6372757</td>\n",
       "      <td>...</td>\n",
       "      <td>ANDROID</td>\n",
       "      <td>wifi</td>\n",
       "      <td>app</td>\n",
       "      <td>HTML</td>\n",
       "      <td>XEM NGAY</td>\n",
       "      <td>ƯU ĐÃI ĐẾN 60%</td>\n",
       "      <td>3200480</td>\n",
       "      <td>NaN</td>\n",
       "      <td>NaN</td>\n",
       "      <td>0</td>\n",
       "    </tr>\n",
       "    <tr>\n",
       "      <td>4</td>\n",
       "      <td>-4</td>\n",
       "      <td>0</td>\n",
       "      <td>20</td>\n",
       "      <td>0</td>\n",
       "      <td>1088</td>\n",
       "      <td>2</td>\n",
       "      <td>25181</td>\n",
       "      <td>26511</td>\n",
       "      <td>74</td>\n",
       "      <td>6381396</td>\n",
       "      <td>...</td>\n",
       "      <td>IOS</td>\n",
       "      <td>wifi</td>\n",
       "      <td>app</td>\n",
       "      <td>IMAGE</td>\n",
       "      <td>NaN</td>\n",
       "      <td>NaN</td>\n",
       "      <td>3000250</td>\n",
       "      <td>NaN</td>\n",
       "      <td>NaN</td>\n",
       "      <td>0</td>\n",
       "    </tr>\n",
       "  </tbody>\n",
       "</table>\n",
       "<p>5 rows × 24 columns</p>\n",
       "</div>"
      ],
      "text/plain": [
       "   g_event_id  r_dow  r_hod  a_er_cat  a_app_id  a_campaign_type_id  \\\n",
       "0          -4      0     19         0      2214                   2   \n",
       "1          -4      0     20         0      1087                   2   \n",
       "2          -4      0     20         0      1061                   2   \n",
       "3          -4      0     20         0      2214                   2   \n",
       "4          -4      0     20         0      1088                   2   \n",
       "\n",
       "   a_camp_id  a_group_id  r_source_id     c_id  ...  r_platform  \\\n",
       "0       6732       15102           69  6372771  ...     ANDROID   \n",
       "1      25179       25740          253  6371282  ...     ANDROID   \n",
       "2      25401       26160           69  6381865  ...     ANDROID   \n",
       "3       6732       15102          259  6372757  ...     ANDROID   \n",
       "4      25181       26511           74  6381396  ...         IOS   \n",
       "\n",
       "  r_network_type  r_traffic_type c_type           c_cta  \\\n",
       "0       cellular             app   HTML        XEM NGAY   \n",
       "1           wifi             app  IMAGE             NaN   \n",
       "2       cellular             app   HTML  Pesan Sekarang   \n",
       "3           wifi             app   HTML        XEM NGAY   \n",
       "4           wifi             app  IMAGE             NaN   \n",
       "\n",
       "                                              c_text   c_size s_gerry_type  \\\n",
       "0                                     ƯU ĐÃI ĐẾN 60%  3200480          NaN   \n",
       "1                                                NaN  3200480          NaN   \n",
       "2  Saat waktu tak memberi \\nbanyak pilihan, cek G...  4800320          0.0   \n",
       "3                                     ƯU ĐÃI ĐẾN 60%  3200480          NaN   \n",
       "4                                                NaN  3000250          NaN   \n",
       "\n",
       "  s_caesar_id response  \n",
       "0         NaN        0  \n",
       "1         NaN        0  \n",
       "2         NaN        0  \n",
       "3         NaN        0  \n",
       "4         NaN        0  \n",
       "\n",
       "[5 rows x 24 columns]"
      ]
     },
     "execution_count": 6,
     "metadata": {},
     "output_type": "execute_result"
    }
   ],
   "source": [
    "df = pd.read_csv(path/'20190919-to-20190921.csv')\n",
    "df = df.drop(columns=\"sid\")\n",
    "df = df.drop(columns=\"time\")\n",
    "df.head()"
   ]
  },
  {
   "cell_type": "code",
   "execution_count": 23,
   "metadata": {
    "scrolled": true
   },
   "outputs": [
    {
     "data": {
      "text/plain": [
       "Index(['g_event_id', 'sid', 'time', 'r_dow', 'r_hod', 'a_er_cat', 'a_app_id',\n",
       "       'a_campaign_type_id', 'a_camp_id', 'a_group_id', 'r_source_id', 'c_id',\n",
       "       'r_site_id', 'r_site_iab_cats', 'r_country_id', 'r_region_code',\n",
       "       'r_platform', 'r_network_type', 'r_traffic_type', 'c_type', 'c_cta',\n",
       "       'c_text', 'c_size', 's_gerry_type', 's_caesar_id', 'response'],\n",
       "      dtype='object')"
      ]
     },
     "execution_count": 23,
     "metadata": {},
     "output_type": "execute_result"
    }
   ],
   "source": [
    "df.columns"
   ]
  },
  {
   "cell_type": "markdown",
   "metadata": {
    "colab": {},
    "colab_type": "code",
    "id": "Yfv9Rjn_0tlZ"
   },
   "source": [
    "We can define a bunch of Transforms that will be applied to our variables. Here we transform all categorical variables into categories. We also replace missing values for continuous variables by the median column value and normalize those."
   ]
  },
  {
   "cell_type": "code",
   "execution_count": 25,
   "metadata": {},
   "outputs": [],
   "source": [
    "procs = [FillMissing, Categorify, Normalize]"
   ]
  },
  {
   "cell_type": "markdown",
   "metadata": {},
   "source": [
    "To split our data into training and validation sets, we use valid indexes"
   ]
  },
  {
   "cell_type": "code",
   "execution_count": 30,
   "metadata": {},
   "outputs": [
    {
     "data": {
      "text/plain": [
       "range(860384, 960384)"
      ]
     },
     "execution_count": 30,
     "metadata": {},
     "output_type": "execute_result"
    }
   ],
   "source": [
    "valid_idx = range(len(df)-100000, len(df))\n",
    "valid_idx"
   ]
  },
  {
   "cell_type": "markdown",
   "metadata": {},
   "source": [
    "let's split our variables into categorical and continuous variables (we can ignore the label variable at this stage). fastai will assume all variables that aren't labels or categorical are continuous, unless we explicitly pass a list to the cont_names parameter when constructing our DataBunch."
   ]
  },
  {
   "cell_type": "code",
   "execution_count": 33,
   "metadata": {},
   "outputs": [
    {
     "data": {
      "text/plain": [
       "['g_event_id',\n",
       " 'sid',\n",
       " 'time',\n",
       " 'r_dow',\n",
       " 'r_hod',\n",
       " 'a_er_cat',\n",
       " 'a_app_id',\n",
       " 'a_campaign_type_id',\n",
       " 'a_camp_id',\n",
       " 'a_group_id',\n",
       " 'r_source_id',\n",
       " 'c_id',\n",
       " 'r_site_id',\n",
       " 'r_site_iab_cats',\n",
       " 'r_country_id',\n",
       " 'r_region_code',\n",
       " 'r_platform',\n",
       " 'r_network_type',\n",
       " 'r_traffic_type',\n",
       " 'c_type',\n",
       " 'c_cta',\n",
       " 'c_text',\n",
       " 'c_size',\n",
       " 's_gerry_type',\n",
       " 's_caesar_id',\n",
       " 'response']"
      ]
     },
     "execution_count": 33,
     "metadata": {},
     "output_type": "execute_result"
    }
   ],
   "source": [
    "label = 'response'\n",
    "cat_names = ['g_event_id', 'r_dow', 'r_hod', 'a_er_cat', 'a_app_id','a_campaign_type_id', 'a_camp_id', 'a_group_id', 'r_source_id', 'c_id','r_site_id', 'r_site_iab_cats', 'r_country_id', 'r_region_code','r_platform', 'r_network_type', 'r_traffic_type', 'c_type', 'c_cta','c_text', 'c_size', 's_gerry_type', 's_caesar_id', 'response']\n",
    "cat_names"
   ]
  },
  {
   "cell_type": "code",
   "execution_count": null,
   "metadata": {},
   "outputs": [],
   "source": []
  }
 ],
 "metadata": {
  "accelerator": "GPU",
  "colab": {
   "collapsed_sections": [
    "UIJrADLQ0tkg",
    "ZNEbu3al0tk4"
   ],
   "name": "lesson1-pets.ipynb",
   "provenance": [
    {
     "file_id": "https://github.com/fastai/course-v3/blob/master/nbs/dl1/lesson1-pets.ipynb",
     "timestamp": 1569337973923
    }
   ]
  },
  "kernelspec": {
   "display_name": "Python fastai",
   "language": "python",
   "name": "fastai"
  },
  "language_info": {
   "codemirror_mode": {
    "name": "ipython",
    "version": 3
   },
   "file_extension": ".py",
   "mimetype": "text/x-python",
   "name": "python",
   "nbconvert_exporter": "python",
   "pygments_lexer": "ipython3",
   "version": "3.7.4"
  }
 },
 "nbformat": 4,
 "nbformat_minor": 1
}
